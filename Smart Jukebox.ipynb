{
 "cells": [
  {
   "cell_type": "code",
   "execution_count": 2,
   "id": "d4c6621e",
   "metadata": {},
   "outputs": [
    {
     "name": "stdout",
     "output_type": "stream",
     "text": [
      "Requirement already satisfied: fuzzywuzzy in /Users/connorsteele/opt/anaconda3/lib/python3.9/site-packages (0.18.0)\n",
      "Welcome to Smart Jukebox! Answer each question and we'll create a personalized playlist for you.\n",
      "Would you like to create a playlist that only includes your favorite artist? (yes/no)no\n",
      "\n",
      "Description of each parameter:\n",
      "- Danceability: A value of 0.0 is least danceable and 1.0 is most danceable.\n",
      "- Energy: Death metal has high energy, while a Bach prelude scores low on the scale.\n",
      "- Loudness: the overall loudness of a track in decibels (dB). \n",
      "- Speechiness: The more exclusively speech-like the recording (e.g. talk show, audio book, poetry), the closer to 1.0 the attribute value. Values above 0.66 describe tracks that are probably made entirely of spoken words. Values between 0.33 and 0.66 describe tracks that may contain both music and speech, either in sections or layered, including such cases as rap music. Values below 0.33 most likely represent music and other non-speech-like tracks.\n",
      "- Acousticness: 1.0 represents high confidence the track is acoustic.\n",
      "- Instrumentalness: predicts whether a track contains no vocals. 'Ooh' and 'aah' sounds are treated as instrumental in this context. Rap or spoken word tracks are clearly 'vocal'. The closer the instrumentalness value is to 1.0, the greater likelihood the track contains no vocal content. Values above 0.5 are intended to represent instrumental tracks, but confidence is higher as the value approaches 1.0.\n",
      "- Liveness: Detects the presence of an audience in the recording. Higher liveness values represent an increased probability that the track was performed live.\n",
      "- Valence: Tracks with high valence sound more positive (e.g. happy, cheerful, euphoric), while tracks with low valence sound more negative (e.g. sad, depressed, angry).\n",
      "- Tempo: the overall estimated tempo of a track in beats per minute (BPM).\n",
      "\n",
      "Instructions: Adjust the sliders below to match your taste in music:\n"
     ]
    },
    {
     "data": {
      "application/vnd.jupyter.widget-view+json": {
       "model_id": "f7a6c9aa1cf44f9aaa7dac9d9c66a7e5",
       "version_major": 2,
       "version_minor": 0
      },
      "text/plain": [
       "FloatSlider(value=0.0, description='Danceability:', max=1.0)"
      ]
     },
     "metadata": {},
     "output_type": "display_data"
    },
    {
     "data": {
      "application/vnd.jupyter.widget-view+json": {
       "model_id": "c3ab355d68464ed5acd256bb329d1941",
       "version_major": 2,
       "version_minor": 0
      },
      "text/plain": [
       "FloatSlider(value=0.0, description='Energy:', max=1.0)"
      ]
     },
     "metadata": {},
     "output_type": "display_data"
    },
    {
     "data": {
      "application/vnd.jupyter.widget-view+json": {
       "model_id": "168e6a6050a146d8aaa86ec7685476b5",
       "version_major": 2,
       "version_minor": 0
      },
      "text/plain": [
       "FloatSlider(value=0.0, description='Loudness:', max=1.0)"
      ]
     },
     "metadata": {},
     "output_type": "display_data"
    },
    {
     "data": {
      "application/vnd.jupyter.widget-view+json": {
       "model_id": "f1b01ae7a1614fa3b65af8d49beeb144",
       "version_major": 2,
       "version_minor": 0
      },
      "text/plain": [
       "FloatSlider(value=0.0, description='Speechiness:', max=1.0)"
      ]
     },
     "metadata": {},
     "output_type": "display_data"
    },
    {
     "data": {
      "application/vnd.jupyter.widget-view+json": {
       "model_id": "2f11bf728b914f6199316c74e906424a",
       "version_major": 2,
       "version_minor": 0
      },
      "text/plain": [
       "FloatSlider(value=0.0, description='Acousticness:', max=1.0)"
      ]
     },
     "metadata": {},
     "output_type": "display_data"
    },
    {
     "data": {
      "application/vnd.jupyter.widget-view+json": {
       "model_id": "750b1c1691b14c8ca215182e7bb9a991",
       "version_major": 2,
       "version_minor": 0
      },
      "text/plain": [
       "FloatSlider(value=0.0, description='Instrumentalness:', max=1.0)"
      ]
     },
     "metadata": {},
     "output_type": "display_data"
    },
    {
     "data": {
      "application/vnd.jupyter.widget-view+json": {
       "model_id": "70a0d1b1319e44bd8756cdf97f3e80e6",
       "version_major": 2,
       "version_minor": 0
      },
      "text/plain": [
       "FloatSlider(value=0.0, description='Liveness:', max=1.0)"
      ]
     },
     "metadata": {},
     "output_type": "display_data"
    },
    {
     "data": {
      "application/vnd.jupyter.widget-view+json": {
       "model_id": "98a764fae11843fc8354944975306768",
       "version_major": 2,
       "version_minor": 0
      },
      "text/plain": [
       "FloatSlider(value=0.0, description='Valence:', max=1.0)"
      ]
     },
     "metadata": {},
     "output_type": "display_data"
    },
    {
     "data": {
      "application/vnd.jupyter.widget-view+json": {
       "model_id": "ccafcfc6e3c44bbbb30e644bbca7e001",
       "version_major": 2,
       "version_minor": 0
      },
      "text/plain": [
       "FloatSlider(value=0.0, description='Tempo:', max=1.0)"
      ]
     },
     "metadata": {},
     "output_type": "display_data"
    },
    {
     "data": {
      "application/vnd.jupyter.widget-view+json": {
       "model_id": "c6d5ba5038dd492bab0bedebf18e5753",
       "version_major": 2,
       "version_minor": 0
      },
      "text/plain": [
       "IntText(value=10, description='# of songs:')"
      ]
     },
     "metadata": {},
     "output_type": "display_data"
    },
    {
     "data": {
      "application/vnd.jupyter.widget-view+json": {
       "model_id": "b2cd539dc2104310b8f27f1082c8a875",
       "version_major": 2,
       "version_minor": 0
      },
      "text/plain": [
       "Button(description='Create Playlist', style=ButtonStyle())"
      ]
     },
     "metadata": {},
     "output_type": "display_data"
    },
    {
     "name": "stdout",
     "output_type": "stream",
     "text": [
      "\n",
      "Your personalized playlist:\n",
      "Consciousness - Eric Prydz Remix by Eric Prydz https://www.youtube.com/watch?v=HwX3iqKUF7A\n",
      "Jitni Dafa by Jeet Gannguli https://www.youtube.com/watch?v=AvgFmr-ckpk\n",
      "Home by Toby Fox https://www.youtube.com/watch?v=5_E_y1AWAfc\n",
      "Lose Yourself to Dance (feat. Pharrell Williams) by Daft Punk https://www.youtube.com/watch?v=NF-kLy44Hls\n",
      "One More Night (feat. Bryn Christopher) by Benny Benassi https://www.youtube.com/watch?v=eQw_yPYt-Y0\n",
      "Stand By Me - Remastered 2010 by John Lennon https://www.youtube.com/watch?v=YqB8Dm65X18\n",
      "Raataan Lambiyan (From \"Shershaah\") by Tanishk Bagchi https://www.youtube.com/watch?v=gvyUuxdRdR4\n",
      "All The Pretty Girls by fun. https://www.youtube.com/watch?v=AIoaiTwLk6I\n",
      "Hoe Cakes by MF DOOM https://www.youtube.com/watch?v=9w1Z3Qq2C8k\n",
      "Coração Radiante by Grupo Revelação https://www.youtube.com/watch?v=g5Rm1EzQ2gs\n"
     ]
    }
   ],
   "source": [
    "#Smart Jukebox\n",
    "!pip install fuzzywuzzy\n",
    "import pandas as pd\n",
    "from fuzzywuzzy import process\n",
    "from fuzzywuzzy import fuzz\n",
    "import ipywidgets as widgets\n",
    "import sys\n",
    "\n",
    "df = pd.read_csv(\"Spotify_Youtube.csv\")\n",
    "\n",
    "# Normalize the loudness column into [0,1] range\n",
    "df['Loudness_normalized'] = (df['Loudness'] - df['Loudness'].min())/ (df['Loudness'].max()-df['Loudness'].min())\n",
    "\n",
    "def get_user_input(prompt):\n",
    "    user_input = input(f\"{prompt}\")\n",
    "    return user_input\n",
    "\n",
    "#Start\n",
    "print(\"Welcome to Smart Jukebox! Answer each question and we'll create a personalized playlist for you.\")\n",
    "create_only_artist_playlist = get_user_input(\"Would you like to create a playlist that only includes your favorite artist? (yes/no)\")\n",
    "\n",
    "if create_only_artist_playlist.lower() == \"yes\":\n",
    "    fav_artist = get_user_input(\"Who is your favorite artist?\")\n",
    "    num_songs_input = int(get_user_input(\"How many songs do you want in your playlist?\"))\n",
    "    num_songs = min(num_songs_input, len(df))\n",
    "    # Fuzzywuzzy allows alternate spellings in the artist name, here the user needs only 75% of artist name\n",
    "    best_match = process.extractOne(fav_artist, df['Artist'].unique(), scorer=fuzz.partial_ratio)\n",
    "    if best_match[1] >= 75:\n",
    "        artist_songs = df[df[\"Artist\"].str.lower() == best_match[0].lower()][[\"Artist\", \"Url_youtube\",\"Track\"]]\n",
    "    else:\n",
    "        print(f\"No songs found for {fav_artist}. Please try again.\")\n",
    "        sys.exit()\n",
    "    playlist = artist_songs.sample(n=num_songs, replace=True)\n",
    "    if len(playlist) < num_songs:\n",
    "        print(f\"Not enough unique songs found for {fav_artist}. Your playlist only contains {len(playlist)} unique songs.\")\n",
    "    else:\n",
    "        print(\"\\nYour playlist:\")\n",
    "        for i, song in playlist.iterrows():\n",
    "            print(f\"{song['Track']} by {song['Artist']} {song['Url_youtube']}\")\n",
    "else:\n",
    "    print(\"\")\n",
    "    print(\"Description of each parameter:\")\n",
    "    print(\"- Danceability: A value of 0.0 is least danceable and 1.0 is most danceable.\")\n",
    "    print(\"- Energy: Death metal has high energy, while a Bach prelude scores low on the scale.\")\n",
    "    print(\"- Loudness: the overall loudness of a track in decibels (dB). \")\n",
    "    print(\"- Speechiness: The more exclusively speech-like the recording (e.g. talk show, audio book, poetry), the closer to 1.0 the attribute value. Values above 0.66 describe tracks that are probably made entirely of spoken words. Values between 0.33 and 0.66 describe tracks that may contain both music and speech, either in sections or layered, including such cases as rap music. Values below 0.33 most likely represent music and other non-speech-like tracks.\")\n",
    "    print(\"- Acousticness: 1.0 represents high confidence the track is acoustic.\")\n",
    "    print(\"- Instrumentalness: predicts whether a track contains no vocals. 'Ooh' and 'aah' sounds are treated as instrumental in this context. Rap or spoken word tracks are clearly 'vocal'. The closer the instrumentalness value is to 1.0, the greater likelihood the track contains no vocal content. Values above 0.5 are intended to represent instrumental tracks, but confidence is higher as the value approaches 1.0.\")\n",
    "    print(\"- Liveness: Detects the presence of an audience in the recording. Higher liveness values represent an increased probability that the track was performed live.\")\n",
    "    print(\"- Valence: Tracks with high valence sound more positive (e.g. happy, cheerful, euphoric), while tracks with low valence sound more negative (e.g. sad, depressed, angry).\")\n",
    "    print(\"- Tempo: the overall estimated tempo of a track in beats per minute (BPM).\")\n",
    "    print(\"\\nInstructions: Adjust the sliders below to match your taste in music:\")\n",
    "    danceability_slider = widgets.FloatSlider(min=0, max=1, step=0.1, description=\"Danceability:\")\n",
    "    energy_slider = widgets.FloatSlider(min=0, max=1, step=0.1, description=\"Energy:\")\n",
    "    loudness_slider = widgets.FloatSlider(min=0, max=1, step=0.1, description=\"Loudness:\")\n",
    "    speechiness_slider = widgets.FloatSlider(min=0, max=1, step=0.1, description=\"Speechiness:\")\n",
    "    acousticness_slider = widgets.FloatSlider(min=0, max=1, step=0.1, description=\"Acousticness:\")\n",
    "    instrumentalness_slider = widgets.FloatSlider(min=0, max=1, step=0.1, description=\"Instrumentalness:\")\n",
    "    liveness_slider = widgets.FloatSlider(min=0, max=1, step=0.1, description=\"Liveness:\")\n",
    "    valence_slider = widgets.FloatSlider(min=0, max=1, step=0.1, description=\"Valence:\")\n",
    "    tempo_slider = widgets.FloatSlider(min=0, max=1, step=0.1, description=\"Tempo:\")\n",
    "    num_songs_input = widgets.IntText(value=10, description=\"# of songs:\")\n",
    "    button = widgets.Button(description=\"Create Playlist\")\n",
    "    \n",
    "    def create_playlist(button):\n",
    "        num_songs = 10\n",
    "        danceability = danceability_slider.value\n",
    "        energy = energy_slider.value\n",
    "        loudness = loudness_slider.value\n",
    "        speechiness = speechiness_slider.value\n",
    "        acousticness = acousticness_slider.value\n",
    "        instrumentalness = instrumentalness_slider.value\n",
    "        liveness = liveness_slider.value\n",
    "        valence = valence_slider.value\n",
    "        tempo = tempo_slider.value\n",
    "\n",
    "        song_features = [\"Danceability\", \"Energy\", \"Loudness_normalized\", \"Speechiness\", \"Acousticness\",\n",
    "                     \"Instrumentalness\", \"Liveness\", \"Valence\", \"Tempo\"]\n",
    "        weights = [danceability, energy, loudness, speechiness, acousticness, instrumentalness, liveness, valence, tempo]\n",
    "        weighted_features = dict(zip(song_features, weights))\n",
    "\n",
    "        # Selects songs based off user's desired features\n",
    "        playlist = df[(df[song_features] * weights).sum(axis=1) > 0.5]\n",
    "        if len(playlist) < num_songs:\n",
    "            print(f\"Not enough songs found that match your desired song features. Your playlist only contains {len(playlist)} unique songs.\")\n",
    "        else:\n",
    "            num_songs = int(num_songs_input.value)\n",
    "            playlist = playlist.sample(n=num_songs, replace=True)\n",
    "\n",
    "        print(\"\\nYour personalized playlist:\")\n",
    "        for i, song in playlist.iterrows():\n",
    "            print(f\"{song['Track']} by {song['Artist']} {song['Url_youtube']}\")\n",
    "\n",
    "    button.on_click(create_playlist)\n",
    "    display(danceability_slider, energy_slider, loudness_slider, speechiness_slider, acousticness_slider,\n",
    "            instrumentalness_slider, liveness_slider, valence_slider, tempo_slider, num_songs_input, button)\n",
    "    \n",
    "    "
   ]
  },
  {
   "cell_type": "code",
   "execution_count": null,
   "id": "a38c3db3",
   "metadata": {},
   "outputs": [],
   "source": []
  }
 ],
 "metadata": {
  "kernelspec": {
   "display_name": "Python 3 (ipykernel)",
   "language": "python",
   "name": "python3"
  },
  "language_info": {
   "codemirror_mode": {
    "name": "ipython",
    "version": 3
   },
   "file_extension": ".py",
   "mimetype": "text/x-python",
   "name": "python",
   "nbconvert_exporter": "python",
   "pygments_lexer": "ipython3",
   "version": "3.9.13"
  }
 },
 "nbformat": 4,
 "nbformat_minor": 5
}
